{
  "cells": [
    {
      "cell_type": "markdown",
      "metadata": {
        "id": "ZgBsX2m9-oLY"
      },
      "source": [
        "# Mount GDrive"
      ]
    },
    {
      "cell_type": "markdown",
      "metadata": {
        "id": "48dC6U7fARwz"
      },
      "source": [
        "# Branch Setup\n",
        "Fetch & checkout the branch that you need."
      ]
    },
    {
      "cell_type": "code",
      "execution_count": null,
      "metadata": {},
      "outputs": [],
      "source": [
        "!wget https://vision.in.tum.de/webshare/u/seidensc/intra_batch_connections/CARS.zip\n",
        "!unzip -q CARS.zip"
      ]
    },
    {
      "cell_type": "code",
      "execution_count": null,
      "metadata": {
        "colab": {
          "base_uri": "https://localhost:8080/"
        },
        "id": "7O0QhNqLGWDp",
        "outputId": "d863a9de-5919-4a5a-a82c-f0c7f0118552"
      },
      "outputs": [],
      "source": [
        "!git clone https://github.com/Steven177/intra_batch.git"
      ]
    },
    {
      "cell_type": "code",
      "execution_count": null,
      "metadata": {
        "colab": {
          "base_uri": "https://localhost:8080/"
        },
        "id": "Jxsm81ICJQVe",
        "outputId": "1943d894-823b-4756-83ce-5add1a6491ba"
      },
      "outputs": [],
      "source": [
        "%cd intra_batch/"
      ]
    },
    {
      "cell_type": "markdown",
      "metadata": {
        "id": "QlUeuQxHfLRV"
      },
      "source": [
        "# Install requirements"
      ]
    },
    {
      "cell_type": "code",
      "execution_count": null,
      "metadata": {
        "colab": {
          "base_uri": "https://localhost:8080/",
          "height": 1000
        },
        "id": "568yrRONTDJY",
        "outputId": "9db5896c-9fb0-4cd7-dd98-a7d02164bae1"
      },
      "outputs": [],
      "source": [
        "!pip install -r requirements.txt"
      ]
    },
    {
      "cell_type": "markdown",
      "metadata": {
        "id": "Sd9cKVrSAeJm"
      },
      "source": [
        "# Download & unzip best weight"
      ]
    },
    {
      "cell_type": "code",
      "execution_count": null,
      "metadata": {
        "colab": {
          "base_uri": "https://localhost:8080/"
        },
        "id": "HUytQbu50oOC",
        "outputId": "5a8db3f2-d5cb-40d4-e3a0-e98c70fb0420"
      },
      "outputs": [],
      "source": [
        "!wget https://vision.in.tum.de/webshare/u/seidensc/intra_batch_connections/best_weights.zip"
      ]
    },
    {
      "cell_type": "code",
      "execution_count": null,
      "metadata": {
        "id": "duvICyiA5iaS"
      },
      "outputs": [],
      "source": [
        "!unzip -q best_weights.zip"
      ]
    },
    {
      "cell_type": "code",
      "execution_count": null,
      "metadata": {
        "colab": {
          "base_uri": "https://localhost:8080/"
        },
        "id": "mo6YxdePxO00",
        "outputId": "18246150-61d1-46ec-f397-ece560fef073"
      },
      "outputs": [],
      "source": [
        "!wget https://vision.in.tum.de/webshare/u/seidensc/weights_for_StPh/cub_weights.zip"
      ]
    },
    {
      "cell_type": "code",
      "execution_count": 13,
      "metadata": {
        "id": "vvtx-pN1xTwY"
      },
      "outputs": [],
      "source": [
        "!unzip -q cub_weights.zip"
      ]
    },
    {
      "cell_type": "code",
      "execution_count": null,
      "metadata": {
        "colab": {
          "base_uri": "https://localhost:8080/"
        },
        "id": "0R3e7p8fVwfD",
        "outputId": "0eebe4aa-59a2-4344-eedd-6e39d68211a9"
      },
      "outputs": [],
      "source": [
        "!wget https://vision.in.tum.de/webshare/u/seidensc/weights_for_StPh/cars_weights2.zip"
      ]
    },
    {
      "cell_type": "code",
      "execution_count": 9,
      "metadata": {
        "id": "oTF9RKPFV6GW"
      },
      "outputs": [],
      "source": [
        "!unzip -q cars_weights2.zip"
      ]
    },
    {
      "cell_type": "markdown",
      "metadata": {},
      "source": [
        "# Get CARS196 Dataset"
      ]
    },
    {
      "cell_type": "code",
      "execution_count": null,
      "metadata": {
        "colab": {
          "base_uri": "https://localhost:8080/"
        },
        "id": "3RXskCHJSbZx",
        "outputId": "37aa0829-5ef1-4dd6-f719-5600afa12641"
      },
      "outputs": [],
      "source": [
        "!python3 train.py --config_path config/jenny/config_cars_train_noatt.yaml --dataset_path ../CARS"
      ]
    }
  ],
  "metadata": {
    "accelerator": "GPU",
    "colab": {
      "collapsed_sections": [],
      "name": "setup_philipp.ipynb",
      "provenance": []
    },
    "kernelspec": {
      "display_name": "Python 3",
      "name": "python3"
    },
    "language_info": {
      "name": "python"
    }
  },
  "nbformat": 4,
  "nbformat_minor": 0
}
